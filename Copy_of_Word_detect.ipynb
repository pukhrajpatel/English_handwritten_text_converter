{
  "nbformat": 4,
  "nbformat_minor": 0,
  "metadata": {
    "colab": {
      "provenance": []
    },
    "kernelspec": {
      "name": "python3",
      "display_name": "Python 3"
    },
    "language_info": {
      "name": "python"
    }
  },
  "cells": [
    {
      "cell_type": "code",
      "execution_count": null,
      "metadata": {
        "colab": {
          "base_uri": "https://localhost:8080/"
        },
        "id": "mxyTQtlPCzw6",
        "outputId": "cc4653af-2ee0-41d2-aa00-923d7199c5d0"
      },
      "outputs": [
        {
          "output_type": "stream",
          "name": "stdout",
          "text": [
            "Mounted at /content/drive/\n"
          ]
        }
      ],
      "source": [
        "from google.colab import drive\n",
        "drive.mount('/content/drive/')"
      ]
    },
    {
      "cell_type": "code",
      "source": [
        "import cv2\n",
        "import numpy as np\n",
        "import matplotlib.pyplot as plt\n",
        "import pandas as pd\n",
        "from google.colab.patches import cv2_imshow"
      ],
      "metadata": {
        "id": "M7t-uJPEC-hr"
      },
      "execution_count": null,
      "outputs": []
    },
    {
      "cell_type": "code",
      "source": [
        "df = pd.read_csv('/content/drive/MyDrive/Handwritten_text_converter/data.csv')\n",
        "df.head()"
      ],
      "metadata": {
        "colab": {
          "base_uri": "https://localhost:8080/",
          "height": 206
        },
        "id": "NPMDdlHrDQye",
        "outputId": "ab8d6995-752e-471a-cb94-b5804e2b183a"
      },
      "execution_count": null,
      "outputs": [
        {
          "output_type": "execute_result",
          "data": {
            "text/plain": [
              "                          path                                 text\n",
              "0  r08/r08-580/r08-580z-01.tif     They appeared to look elsewhere,\n",
              "1  r08/r08-580/r08-580z-02.tif  indeed, until I realized afresh, as\n",
              "2  r08/r08-580/r08-580z-03.tif     you have to, that all birds look\n",
              "3  r08/r08-580/r08-580z-04.tif       at you from the sides of their\n",
              "4  r08/r08-580/r08-580z-05.tif                               heads."
            ],
            "text/html": [
              "\n",
              "  <div id=\"df-21e19e1b-e092-4c23-ad8f-2d3c4324c367\">\n",
              "    <div class=\"colab-df-container\">\n",
              "      <div>\n",
              "<style scoped>\n",
              "    .dataframe tbody tr th:only-of-type {\n",
              "        vertical-align: middle;\n",
              "    }\n",
              "\n",
              "    .dataframe tbody tr th {\n",
              "        vertical-align: top;\n",
              "    }\n",
              "\n",
              "    .dataframe thead th {\n",
              "        text-align: right;\n",
              "    }\n",
              "</style>\n",
              "<table border=\"1\" class=\"dataframe\">\n",
              "  <thead>\n",
              "    <tr style=\"text-align: right;\">\n",
              "      <th></th>\n",
              "      <th>path</th>\n",
              "      <th>text</th>\n",
              "    </tr>\n",
              "  </thead>\n",
              "  <tbody>\n",
              "    <tr>\n",
              "      <th>0</th>\n",
              "      <td>r08/r08-580/r08-580z-01.tif</td>\n",
              "      <td>They appeared to look elsewhere,</td>\n",
              "    </tr>\n",
              "    <tr>\n",
              "      <th>1</th>\n",
              "      <td>r08/r08-580/r08-580z-02.tif</td>\n",
              "      <td>indeed, until I realized afresh, as</td>\n",
              "    </tr>\n",
              "    <tr>\n",
              "      <th>2</th>\n",
              "      <td>r08/r08-580/r08-580z-03.tif</td>\n",
              "      <td>you have to, that all birds look</td>\n",
              "    </tr>\n",
              "    <tr>\n",
              "      <th>3</th>\n",
              "      <td>r08/r08-580/r08-580z-04.tif</td>\n",
              "      <td>at you from the sides of their</td>\n",
              "    </tr>\n",
              "    <tr>\n",
              "      <th>4</th>\n",
              "      <td>r08/r08-580/r08-580z-05.tif</td>\n",
              "      <td>heads.</td>\n",
              "    </tr>\n",
              "  </tbody>\n",
              "</table>\n",
              "</div>\n",
              "      <button class=\"colab-df-convert\" onclick=\"convertToInteractive('df-21e19e1b-e092-4c23-ad8f-2d3c4324c367')\"\n",
              "              title=\"Convert this dataframe to an interactive table.\"\n",
              "              style=\"display:none;\">\n",
              "        \n",
              "  <svg xmlns=\"http://www.w3.org/2000/svg\" height=\"24px\"viewBox=\"0 0 24 24\"\n",
              "       width=\"24px\">\n",
              "    <path d=\"M0 0h24v24H0V0z\" fill=\"none\"/>\n",
              "    <path d=\"M18.56 5.44l.94 2.06.94-2.06 2.06-.94-2.06-.94-.94-2.06-.94 2.06-2.06.94zm-11 1L8.5 8.5l.94-2.06 2.06-.94-2.06-.94L8.5 2.5l-.94 2.06-2.06.94zm10 10l.94 2.06.94-2.06 2.06-.94-2.06-.94-.94-2.06-.94 2.06-2.06.94z\"/><path d=\"M17.41 7.96l-1.37-1.37c-.4-.4-.92-.59-1.43-.59-.52 0-1.04.2-1.43.59L10.3 9.45l-7.72 7.72c-.78.78-.78 2.05 0 2.83L4 21.41c.39.39.9.59 1.41.59.51 0 1.02-.2 1.41-.59l7.78-7.78 2.81-2.81c.8-.78.8-2.07 0-2.86zM5.41 20L4 18.59l7.72-7.72 1.47 1.35L5.41 20z\"/>\n",
              "  </svg>\n",
              "      </button>\n",
              "      \n",
              "  <style>\n",
              "    .colab-df-container {\n",
              "      display:flex;\n",
              "      flex-wrap:wrap;\n",
              "      gap: 12px;\n",
              "    }\n",
              "\n",
              "    .colab-df-convert {\n",
              "      background-color: #E8F0FE;\n",
              "      border: none;\n",
              "      border-radius: 50%;\n",
              "      cursor: pointer;\n",
              "      display: none;\n",
              "      fill: #1967D2;\n",
              "      height: 32px;\n",
              "      padding: 0 0 0 0;\n",
              "      width: 32px;\n",
              "    }\n",
              "\n",
              "    .colab-df-convert:hover {\n",
              "      background-color: #E2EBFA;\n",
              "      box-shadow: 0px 1px 2px rgba(60, 64, 67, 0.3), 0px 1px 3px 1px rgba(60, 64, 67, 0.15);\n",
              "      fill: #174EA6;\n",
              "    }\n",
              "\n",
              "    [theme=dark] .colab-df-convert {\n",
              "      background-color: #3B4455;\n",
              "      fill: #D2E3FC;\n",
              "    }\n",
              "\n",
              "    [theme=dark] .colab-df-convert:hover {\n",
              "      background-color: #434B5C;\n",
              "      box-shadow: 0px 1px 3px 1px rgba(0, 0, 0, 0.15);\n",
              "      filter: drop-shadow(0px 1px 2px rgba(0, 0, 0, 0.3));\n",
              "      fill: #FFFFFF;\n",
              "    }\n",
              "  </style>\n",
              "\n",
              "      <script>\n",
              "        const buttonEl =\n",
              "          document.querySelector('#df-21e19e1b-e092-4c23-ad8f-2d3c4324c367 button.colab-df-convert');\n",
              "        buttonEl.style.display =\n",
              "          google.colab.kernel.accessAllowed ? 'block' : 'none';\n",
              "\n",
              "        async function convertToInteractive(key) {\n",
              "          const element = document.querySelector('#df-21e19e1b-e092-4c23-ad8f-2d3c4324c367');\n",
              "          const dataTable =\n",
              "            await google.colab.kernel.invokeFunction('convertToInteractive',\n",
              "                                                     [key], {});\n",
              "          if (!dataTable) return;\n",
              "\n",
              "          const docLinkHtml = 'Like what you see? Visit the ' +\n",
              "            '<a target=\"_blank\" href=https://colab.research.google.com/notebooks/data_table.ipynb>data table notebook</a>'\n",
              "            + ' to learn more about interactive tables.';\n",
              "          element.innerHTML = '';\n",
              "          dataTable['output_type'] = 'display_data';\n",
              "          await google.colab.output.renderOutput(dataTable, element);\n",
              "          const docLink = document.createElement('div');\n",
              "          docLink.innerHTML = docLinkHtml;\n",
              "          element.appendChild(docLink);\n",
              "        }\n",
              "      </script>\n",
              "    </div>\n",
              "  </div>\n",
              "  "
            ]
          },
          "metadata": {},
          "execution_count": 3
        }
      ]
    },
    {
      "cell_type": "code",
      "source": [
        "path = '/content/drive/MyDrive/Handwritten_text_converter/'\n",
        "path_img = path + 'lineImages'"
      ],
      "metadata": {
        "id": "seXPJa-kDm4Y"
      },
      "execution_count": null,
      "outputs": []
    },
    {
      "cell_type": "code",
      "source": [
        "import sys        \n",
        "sys.path.append('/content/drive/MyDrive/Handwritten_text_converter/Word_detector')  "
      ],
      "metadata": {
        "id": "VCaB3q7PF_cB"
      },
      "execution_count": null,
      "outputs": []
    },
    {
      "cell_type": "code",
      "source": [
        "def prepare_image(img, height):\n",
        "  gray = cv2.cvtColor(img, cv2.COLOR_BGR2GRAY)\n",
        "  h = gray.shape[0]\n",
        "  factor = height/h\n",
        "  return cv2.resize(gray, dsize = None, fx = factor, fy = factor)\n",
        "\n",
        "def prepare_kernel(kernel_size, sigma, theta):\n",
        "  half_size = kernel_size // 2\n",
        "  xs = ys = np.linspace(-half_size, half_size, kernel_size)\n",
        "  x, y = np.meshgrid(xs, ys)\n",
        "\n",
        "  # compute sigma values in x and y direction, where theta is roughly the average x/y ratio of words\n",
        "  sigma_y = sigma\n",
        "  sigma_x = sigma_y * theta\n",
        "\n",
        "  # compute terms and combine them\n",
        "  exp_term = np.exp(-x ** 2 / (2 * sigma_x) - y ** 2 / (2 * sigma_y))\n",
        "  x_term = (x ** 2 - sigma_x ** 2) / (2 * np.math.pi * sigma_x ** 5 * sigma_y)\n",
        "  y_term = (y ** 2 - sigma_y ** 2) / (2 * np.math.pi * sigma_y ** 5 * sigma_x)\n",
        "  kernel = (x_term + y_term) * exp_term\n",
        "\n",
        "  # normalize and return kernel\n",
        "  kernel = kernel / np.sum(kernel)\n",
        "  return kernel\n",
        "\n",
        "def detect(img, min_area, kernel_size, sigma, theta):\n",
        "  kernel = prepare_kernel(kernel_size, sigma, theta)\n",
        "  img_filtered = cv2.filter2D(img, -1, kernel, borderType=cv2.BORDER_REPLICATE).astype(np.uint8)\n",
        "  img_thres = 255 - cv2.threshold(img_filtered, 0, 255, cv2.THRESH_BINARY + cv2.THRESH_OTSU)[1]\n",
        "  res = []\n",
        "  components = cv2.findContours(img_thres, cv2.RETR_LIST, cv2.CHAIN_APPROX_SIMPLE)[0]\n",
        "  for c in components:\n",
        "    # skip small word candidates\n",
        "    if cv2.contourArea(c) < min_area:\n",
        "        continue\n",
        "    # append bounding box and image of word to result list\n",
        "    x, y, w, h = cv2.boundingRect(c)  # bounding box as tuple (x, y, w, h)\n",
        "    crop = img[y:y + h, x:x + w]\n",
        "    #res.append(DetectorRes(crop, BBox(x, y, w, h)))\n",
        "    res.append([x, crop])\n",
        "  return sorted(res)\n",
        "\n",
        "\n",
        "import os\n",
        "\n",
        "path = '/content/drive/MyDrive/Handwritten_text_converter/Words/'\n",
        "words = []\n",
        "labels = []\n",
        "\n",
        "for i in np.arange(1408, len(df), 1):\n",
        "  img = cv2.imread(path_img + '/' + df['path'][i])\n",
        "  if not os.path.exists(path + os.path.splitext(df['path'][i])[0]):\n",
        "   os.makedirs(path + os.path.splitext(df['path'][i])[0])\n",
        "  img = prepare_image(img, 150)\n",
        "  res = detect(img, kernel_size = 25, sigma = 30, theta = 7, min_area = 300)\n",
        "  tt = df['text'][i].split(\" \")\n",
        "  if len(res) == len(tt):\n",
        "    for j in range(len(res)):\n",
        "      path_name = os.path.splitext(df['path'][i])[0] + '/' + str(j) + '.tif'\n",
        "      cv2.imwrite(path + path_name, res[j][1])\n",
        "      words.append(path_name)\n",
        "      labels.append(tt[j])\n",
        "\n",
        "\n",
        "import pandas as pd\n",
        "\n",
        "df = pd.DataFrame()\n",
        "df['path'] = words\n",
        "df['text'] = labels\n",
        "\n",
        "df.to_csv('/content/drive/MyDrive/Handwritten_text_converter/words1.csv', index=False)"
      ],
      "metadata": {
        "id": "iMfFWAhLILvX"
      },
      "execution_count": null,
      "outputs": []
    }
  ]
}